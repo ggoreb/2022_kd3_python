{
 "cells": [
  {
   "cell_type": "code",
   "execution_count": null,
   "id": "4904453f-1401-47df-a333-a3328788776a",
   "metadata": {},
   "outputs": [],
   "source": [
    "!pip install pymysql"
   ]
  },
  {
   "cell_type": "code",
   "execution_count": null,
   "id": "532e4463-eea7-4e13-b9bb-89373e59c5c3",
   "metadata": {},
   "outputs": [],
   "source": [
    "import pymysql # 모듈 import\n",
    "conn = pymysql.connect(\n",
    "  host='15.164.153.191', user='kfc',\n",
    "  password='1234',\n",
    "  db='kfc', charset='utf8'\n",
    ") # 데이터베이스 접속\n",
    "cursor = conn.cursor() # 커서 객체 생성\n",
    "sql = '''\n",
    "select * from emp\n",
    "'''\n",
    "cursor.execute(sql) # SQL 실행\n",
    "result = cursor.fetchall()\n",
    "for row in result:\n",
    "  print(row)\n",
    "conn.commit() # 실행내용 저장\n",
    "cursor.close() # 커서 객체 종료\n",
    "conn.close() # 접속 해제"
   ]
  }
 ],
 "metadata": {
  "kernelspec": {
   "display_name": "Python 3 (ipykernel)",
   "language": "python",
   "name": "python3"
  },
  "language_info": {
   "codemirror_mode": {
    "name": "ipython",
    "version": 3
   },
   "file_extension": ".py",
   "mimetype": "text/x-python",
   "name": "python",
   "nbconvert_exporter": "python",
   "pygments_lexer": "ipython3",
   "version": "3.9.7"
  }
 },
 "nbformat": 4,
 "nbformat_minor": 5
}
