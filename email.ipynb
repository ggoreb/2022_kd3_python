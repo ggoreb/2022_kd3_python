{
 "cells": [
  {
   "cell_type": "code",
   "execution_count": 15,
   "id": "c78cafb2-1122-46ef-848e-64281ab5c8ef",
   "metadata": {},
   "outputs": [],
   "source": [
    "text = '''\n",
    "    <table cellpadding=\"0\" cellspacing=\"0\" style=\"padding-top:32px;background-color:#ffffff\" <tbody>\n",
    "        <tr>\n",
    "            <td>\n",
    "                <table cellpadding=\"0\" cellspacing=\"0\">\n",
    "                    <tbody>\n",
    "                        <tr>\n",
    "                            <td style=\"max-width:560px;padding:24px 24px 32px;background-color:#fafafa;border:1px solid #e0e0e0;border-radius:2px\">\n",
    "<img src=\"https://search.pstatic.net/common/?src=http%3A%2F%2Fimage.nmv.naver.net%2Fblog_2021_06_21_2908%2F485c4d2c-d274-11eb-88da-505dac8c3721_01.jpg&type=ofullfill340_600\">\n",
    "                                <table style=\"min-width:272px;padding-top:8px\">\n",
    "                                    <tbody>\n",
    "                                        <tr>\n",
    "                                            <td>\n",
    "                                                <h2 style=\"font-size:20px;color:#212121;font-weight:bold;margin:0\">\n",
    "                                                    다음 코드를 입력하세요 : abcd1234\n",
    "                                                </h2>\n",
    "                                            </td>\n",
    "                                        </tr>\n",
    "                                        <tr>\n",
    "                                            <td style=\"padding-top:20px;color:#757575;font-size:16px;font-weight:normal;text-align:left\">\n",
    "                                                가입 완료를 위하여 다음 코드를 입력해주세요.\n",
    "                                            </td>\n",
    "                                        </tr>\n",
    "                                    </tbody>\n",
    "                                </table>\n",
    "                            </td>\n",
    "                        </tr>\n",
    "                    </tbody>\n",
    "                </table>\n",
    "            </td>\n",
    "        </tr>\n",
    "        </tbody>\n",
    "    </table>\n",
    "\n",
    "'''"
   ]
  },
  {
   "cell_type": "code",
   "execution_count": 16,
   "id": "4a636065-d1b2-446c-abba-eee42a427db2",
   "metadata": {},
   "outputs": [
    {
     "data": {
      "text/plain": [
       "(221,\n",
       " b'2.0.0 closing connection g10-20020a17090ace8a00b001cd4989ff64sm2617807pju.43 - gsmtp')"
      ]
     },
     "execution_count": 16,
     "metadata": {},
     "output_type": "execute_result"
    }
   ],
   "source": [
    "import smtplib\n",
    "from email.mime.text import MIMEText\n",
    "from email.mime.multipart import MIMEMultipart\n",
    "from email.mime.base import MIMEBase\n",
    "\n",
    "# 세션생성, 로그인\n",
    "s = smtplib.SMTP('smtp.gmail.com', 587)\n",
    "s.starttls()\n",
    "s.login('email', 'password')\n",
    "\n",
    "# 제목, 본문 작성\n",
    "msg = MIMEMultipart()\n",
    "msg['Subject'] = '제목'\n",
    "msg.attach(MIMEText(text, 'html'))\n",
    "\n",
    "# 메일 전송\n",
    "s.sendmail('ggoreb.kim@gmail.com', 'seorab@naver.com', msg.as_string())\n",
    "s.quit()"
   ]
  },
  {
   "cell_type": "code",
   "execution_count": null,
   "id": "545cd1cd-ef21-4709-ac16-eb207d13b32b",
   "metadata": {},
   "outputs": [],
   "source": []
  }
 ],
 "metadata": {
  "kernelspec": {
   "display_name": "Python 3 (ipykernel)",
   "language": "python",
   "name": "python3"
  },
  "language_info": {
   "codemirror_mode": {
    "name": "ipython",
    "version": 3
   },
   "file_extension": ".py",
   "mimetype": "text/x-python",
   "name": "python",
   "nbconvert_exporter": "python",
   "pygments_lexer": "ipython3",
   "version": "3.9.7"
  }
 },
 "nbformat": 4,
 "nbformat_minor": 5
}
