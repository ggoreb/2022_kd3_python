{
 "cells": [
  {
   "cell_type": "code",
   "execution_count": null,
   "id": "b93a91fb",
   "metadata": {},
   "outputs": [],
   "source": [
    "import cx_Oracle\n",
    "dsn = cx_Oracle.makedsn('localhost', 1521, 'orclhj')\n",
    "db = cx_Oracle.connect('system', '1234', dsn)\n",
    "\n",
    "sql = '''\n",
    "    select * from emp\n",
    "'''"
   ]
  },
  {
   "cell_type": "code",
   "execution_count": null,
   "id": "a61acd91",
   "metadata": {},
   "outputs": [],
   "source": [
    "import pandas as pd\n",
    "data = pd.read_sql(sql, con=db)"
   ]
  },
  {
   "cell_type": "code",
   "execution_count": null,
   "id": "ecb7a48d",
   "metadata": {},
   "outputs": [],
   "source": [
    "data.head()"
   ]
  }
 ],
 "metadata": {
  "kernelspec": {
   "display_name": "Python 3 (ipykernel)",
   "language": "python",
   "name": "python3"
  },
  "language_info": {
   "codemirror_mode": {
    "name": "ipython",
    "version": 3
   },
   "file_extension": ".py",
   "mimetype": "text/x-python",
   "name": "python",
   "nbconvert_exporter": "python",
   "pygments_lexer": "ipython3",
   "version": "3.9.7"
  }
 },
 "nbformat": 4,
 "nbformat_minor": 5
}
