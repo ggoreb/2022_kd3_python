{
 "cells": [
  {
   "cell_type": "code",
   "execution_count": null,
   "id": "c64ac95e-d888-42a8-a9d4-c0290a53dee9",
   "metadata": {},
   "outputs": [],
   "source": [
    "import random\n",
    "\n",
    "lotto = [11, 12, 33, 45]\n",
    "num = []\n",
    "count = 0\n",
    "while True:\n",
    "  num.clear()\n",
    "  count += 1\n",
    "  \n",
    "  if count % 10000 == 0: print(count)\n",
    "  \n",
    "  while True:\n",
    "    ran = random.randint(1, 45)\n",
    "    if ran not in num:\n",
    "      num.append(ran)\n",
    "      if len(num) >= len(lotto): break\n",
    "  num.sort()\n",
    "  if lotto == num: break\n",
    "print(count)"
   ]
  }
 ],
 "metadata": {
  "kernelspec": {
   "display_name": "Python 3 (ipykernel)",
   "language": "python",
   "name": "python3"
  },
  "language_info": {
   "codemirror_mode": {
    "name": "ipython",
    "version": 3
   },
   "file_extension": ".py",
   "mimetype": "text/x-python",
   "name": "python",
   "nbconvert_exporter": "python",
   "pygments_lexer": "ipython3",
   "version": "3.9.7"
  }
 },
 "nbformat": 4,
 "nbformat_minor": 5
}
