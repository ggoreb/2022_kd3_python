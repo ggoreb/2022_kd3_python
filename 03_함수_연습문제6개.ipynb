{
 "cells": [
  {
   "cell_type": "markdown",
   "id": "71f82d45",
   "metadata": {},
   "source": [
    "#### 1 이상의 정수 N을 입력받은 후 1 ~ N 까지의 합을 구하는 함수 작성"
   ]
  },
  {
   "cell_type": "code",
   "execution_count": 2,
   "id": "a9d437c0",
   "metadata": {},
   "outputs": [
    {
     "data": {
      "text/plain": [
       "55"
      ]
     },
     "execution_count": 2,
     "metadata": {},
     "output_type": "execute_result"
    }
   ],
   "source": [
    "def total(n):\n",
    "    t = 0\n",
    "    for i in range(1, n+1):\n",
    "        t += i\n",
    "    return t\n",
    "total(10)"
   ]
  },
  {
   "cell_type": "markdown",
   "id": "558d4c69",
   "metadata": {},
   "source": [
    "#### 숫자 요소를 가지는 리스트를 입력받은 후 합과 평균을 구하고 튜플 형태로 반환하는 함수 작성"
   ]
  },
  {
   "cell_type": "code",
   "execution_count": 3,
   "id": "5332e66e",
   "metadata": {},
   "outputs": [
    {
     "data": {
      "text/plain": [
       "(30, 7.5)"
      ]
     },
     "execution_count": 3,
     "metadata": {},
     "output_type": "execute_result"
    }
   ],
   "source": [
    "def calculator(items):\n",
    "    total = 0\n",
    "    for i in items:\n",
    "        total += i\n",
    "    avg = total / len(items)\n",
    "    return total, avg\n",
    "calculator([3, 7, 9, 11])"
   ]
  },
  {
   "cell_type": "markdown",
   "id": "8a7c41a8",
   "metadata": {},
   "source": [
    "#### 아래와 같은 수열이 있을 때 N번째 수열의 값을 구하는 함수 작성"
   ]
  },
  {
   "cell_type": "code",
   "execution_count": 5,
   "id": "f1d53c8c",
   "metadata": {},
   "outputs": [
    {
     "data": {
      "text/plain": [
       "220"
      ]
     },
     "execution_count": 5,
     "metadata": {},
     "output_type": "execute_result"
    }
   ],
   "source": [
    "def sequence(n):\n",
    "    total = 0\n",
    "    temp = 0\n",
    "    for i in range(n+1):\n",
    "        temp += i\n",
    "        total += temp\n",
    "    return total\n",
    "sequence(10)"
   ]
  },
  {
   "cell_type": "markdown",
   "id": "78544bfe",
   "metadata": {},
   "source": [
    "#### 문자열의 가운데 글자를 반환하는 함수 작성"
   ]
  },
  {
   "cell_type": "code",
   "execution_count": 7,
   "id": "2a06e4a2",
   "metadata": {},
   "outputs": [
    {
     "data": {
      "text/plain": [
       "'th'"
      ]
     },
     "execution_count": 7,
     "metadata": {},
     "output_type": "execute_result"
    }
   ],
   "source": [
    "def get_mid_char(ch):\n",
    "    length = len(ch)\n",
    "    center = length // 2\n",
    "    if length % 2 == 0:\n",
    "        return ch[center-1:center+1]\n",
    "    else:\n",
    "        return ch[center]\n",
    "get_mid_char('python')"
   ]
  },
  {
   "cell_type": "markdown",
   "id": "f12d269e",
   "metadata": {},
   "source": [
    "#### 길이가 N이고, 수박수박수박수...와 같은 패턴을 반환하는 함수 작성"
   ]
  },
  {
   "cell_type": "code",
   "execution_count": 9,
   "id": "deba1a45",
   "metadata": {},
   "outputs": [
    {
     "data": {
      "text/plain": [
       "'수박수'"
      ]
     },
     "execution_count": 9,
     "metadata": {},
     "output_type": "execute_result"
    }
   ],
   "source": [
    "def print_str(n):\n",
    "    s = '수박'\n",
    "    result = s * (n // 2)\n",
    "    if n % 2 == 1:\n",
    "        result += s[0]\n",
    "    return result\n",
    "print_str(3)"
   ]
  },
  {
   "cell_type": "markdown",
   "id": "089291a6",
   "metadata": {},
   "source": [
    "#### 자연수 N이 주어지면 N의 각 자리 수 합을 구하는 함수 작성"
   ]
  },
  {
   "cell_type": "code",
   "execution_count": null,
   "id": "41300fc3",
   "metadata": {},
   "outputs": [],
   "source": [
    "def total(n):\n",
    "    t = 0\n",
    "    while n > 0:\n",
    "        t = n % 10\n",
    "        "
   ]
  }
 ],
 "metadata": {
  "kernelspec": {
   "display_name": "Python 3 (ipykernel)",
   "language": "python",
   "name": "python3"
  },
  "language_info": {
   "codemirror_mode": {
    "name": "ipython",
    "version": 3
   },
   "file_extension": ".py",
   "mimetype": "text/x-python",
   "name": "python",
   "nbconvert_exporter": "python",
   "pygments_lexer": "ipython3",
   "version": "3.9.7"
  }
 },
 "nbformat": 4,
 "nbformat_minor": 5
}
