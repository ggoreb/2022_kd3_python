{
 "cells": [
  {
   "cell_type": "code",
   "execution_count": 1,
   "id": "5558a2ac",
   "metadata": {
    "collapsed": true
   },
   "outputs": [
    {
     "name": "stdout",
     "output_type": "stream",
     "text": [
      "*\n",
      "**\n",
      "***\n",
      "****\n",
      "*****\n"
     ]
    }
   ],
   "source": [
    "n = 5\n",
    "for i in range(1, n+1):\n",
    "    print('*' * i)"
   ]
  },
  {
   "cell_type": "code",
   "execution_count": 2,
   "id": "59bc0abe",
   "metadata": {},
   "outputs": [
    {
     "name": "stdout",
     "output_type": "stream",
     "text": [
      "    *\n",
      "   **\n",
      "  ***\n",
      " ****\n",
      "*****\n"
     ]
    }
   ],
   "source": [
    "n = 5\n",
    "for i in range(1, n+1):\n",
    "    space = n - i\n",
    "    print( ' ' * space, end='' )\n",
    "    print( '*' * i )"
   ]
  },
  {
   "cell_type": "code",
   "execution_count": 3,
   "id": "ace83358",
   "metadata": {},
   "outputs": [],
   "source": [
    "f = open('c:/python/database.ipynb', 'rt')\n",
    "text = f.read()\n",
    "print(text)\n",
    "f.close()"
   ]
  },
  {
   "cell_type": "code",
   "execution_count": 8,
   "id": "59e633de",
   "metadata": {},
   "outputs": [],
   "source": [
    "f = open('test.txt', 'wt', encoding='utf8')\n",
    "f.write('1가b')\n",
    "f.close()"
   ]
  },
  {
   "cell_type": "code",
   "execution_count": 9,
   "id": "a1e3feb8",
   "metadata": {},
   "outputs": [],
   "source": [
    "f = open('04_seoul_기온.csv', 'rt')\n",
    "lines = f.readlines()\n",
    "f.close()"
   ]
  },
  {
   "cell_type": "code",
   "execution_count": 11,
   "id": "38d1c9ea",
   "metadata": {},
   "outputs": [],
   "source": [
    "date_data = []\n",
    "min_data = []\n",
    "for line in lines:\n",
    "    date_data.append( line.split(',')[0] )\n",
    "    min_data.append( line.split(',')[2] )"
   ]
  },
  {
   "cell_type": "code",
   "execution_count": 13,
   "id": "90429c8e",
   "metadata": {},
   "outputs": [
    {
     "data": {
      "text/plain": [
       "['최저기온(℃)',\n",
       " '-8.4',\n",
       " '-9.1',\n",
       " '-8.4',\n",
       " '-9.9',\n",
       " '-12',\n",
       " '-16.5',\n",
       " '-18.6',\n",
       " '-16.6',\n",
       " '-12.8',\n",
       " '-9.6',\n",
       " '-9.3',\n",
       " '-3',\n",
       " '-3.6',\n",
       " '-0.7',\n",
       " '-8.7',\n",
       " '-10.8',\n",
       " '-9.1',\n",
       " '-11.6']"
      ]
     },
     "execution_count": 13,
     "metadata": {},
     "output_type": "execute_result"
    }
   ],
   "source": [
    "min_data"
   ]
  },
  {
   "cell_type": "code",
   "execution_count": 10,
   "id": "a7e125eb",
   "metadata": {},
   "outputs": [
    {
     "data": {
      "text/plain": [
       "['날짜,평균기온(℃),최저기온(℃),최고기온(℃)\\n',\n",
       " '2021-01-02,-5,-8.4,-1.4\\n',\n",
       " '2021-01-03,-5.6,-9.1,-2\\n',\n",
       " '2021-01-04,-3.5,-8.4,0.3\\n',\n",
       " '2021-01-05,-5.5,-9.9,-2.1\\n',\n",
       " '2021-01-06,-7.4,-12,-1.9\\n',\n",
       " '2021-01-07,-14.5,-16.5,-8.4\\n',\n",
       " '2021-01-08,-14.9,-18.6,-10.7\\n',\n",
       " '2021-01-09,-12.2,-16.6,-7.5\\n',\n",
       " '2021-01-10,-7.7,-12.8,-2.7\\n',\n",
       " '2021-01-11,-6.7,-9.6,-4\\n',\n",
       " '2021-01-12,-3.9,-9.3,-0.5\\n',\n",
       " '2021-01-13,2,-3,8.3\\n',\n",
       " '2021-01-14,1.7,-3.6,7\\n',\n",
       " '2021-01-15,4.5,-0.7,9.9\\n',\n",
       " '2021-01-16,-4.9,-8.7,-0.7\\n',\n",
       " '2021-01-17,-5.5,-10.8,-1.3\\n',\n",
       " '2021-01-18,-3.8,-9.1,0.2\\n',\n",
       " '2021-01-19,-6.3,-11.6,-0.2']"
      ]
     },
     "execution_count": 10,
     "metadata": {},
     "output_type": "execute_result"
    }
   ],
   "source": [
    "lines"
   ]
  }
 ],
 "metadata": {
  "kernelspec": {
   "display_name": "Python 3 (ipykernel)",
   "language": "python",
   "name": "python3"
  },
  "language_info": {
   "codemirror_mode": {
    "name": "ipython",
    "version": 3
   },
   "file_extension": ".py",
   "mimetype": "text/x-python",
   "name": "python",
   "nbconvert_exporter": "python",
   "pygments_lexer": "ipython3",
   "version": "3.9.7"
  }
 },
 "nbformat": 4,
 "nbformat_minor": 5
}
