{
 "cells": [
  {
   "cell_type": "code",
   "execution_count": null,
   "id": "ec447a0c",
   "metadata": {},
   "outputs": [],
   "source": [
    "import requests\n",
    "res = requests.get(\n",
    "    'http://ggoreb.com/quiz/special.html'\n",
    ")\n",
    "res.encoding = None\n",
    "res.text"
   ]
  },
  {
   "cell_type": "code",
   "execution_count": null,
   "id": "51a0394d",
   "metadata": {},
   "outputs": [],
   "source": [
    "html = res.text\n",
    "idx = html.find('%%$')\n",
    "html = html[idx:]\n",
    "html"
   ]
  },
  {
   "cell_type": "code",
   "execution_count": null,
   "id": "f2f753bc",
   "metadata": {},
   "outputs": [],
   "source": [
    "import re\n",
    "pat = re.compile('[%$\\^@_#()!&\\[\\]{}+*]')\n",
    "change = ''\n",
    "result = pat.sub(change, html)\n",
    "result"
   ]
  }
 ],
 "metadata": {
  "kernelspec": {
   "display_name": "Python 3 (ipykernel)",
   "language": "python",
   "name": "python3"
  },
  "language_info": {
   "codemirror_mode": {
    "name": "ipython",
    "version": 3
   },
   "file_extension": ".py",
   "mimetype": "text/x-python",
   "name": "python",
   "nbconvert_exporter": "python",
   "pygments_lexer": "ipython3",
   "version": "3.9.7"
  }
 },
 "nbformat": 4,
 "nbformat_minor": 5
}
