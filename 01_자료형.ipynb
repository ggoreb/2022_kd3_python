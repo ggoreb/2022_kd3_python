{
 "cells": [
  {
   "cell_type": "code",
   "execution_count": 1,
   "id": "7f222391",
   "metadata": {},
   "outputs": [],
   "source": [
    "a = 23\n",
    "b = 5\n",
    "몫 = a // b\n",
    "나머지 = a % b"
   ]
  },
  {
   "cell_type": "code",
   "execution_count": 2,
   "id": "07bcb0ff",
   "metadata": {},
   "outputs": [
    {
     "data": {
      "text/plain": [
       "(4, 3)"
      ]
     },
     "execution_count": 2,
     "metadata": {},
     "output_type": "execute_result"
    }
   ],
   "source": [
    "몫, 나머지"
   ]
  },
  {
   "cell_type": "code",
   "execution_count": 4,
   "id": "fb9b07ef",
   "metadata": {},
   "outputs": [
    {
     "data": {
      "text/plain": [
       "(255, 27)"
      ]
     },
     "execution_count": 4,
     "metadata": {},
     "output_type": "execute_result"
    }
   ],
   "source": [
    "int(0XFF), int(0o33)"
   ]
  },
  {
   "cell_type": "code",
   "execution_count": 7,
   "id": "bf42f767",
   "metadata": {
    "scrolled": true
   },
   "outputs": [
    {
     "name": "stdout",
     "output_type": "stream",
     "text": [
      "25\n"
     ]
    }
   ],
   "source": [
    "num = 215179\n",
    "total = 0\n",
    "\n",
    "나머지 = num % 10\n",
    "total = total + 나머지  # 9\n",
    "\n",
    "num = num // 10\n",
    "나머지 = num % 10\n",
    "total = total + 나머지  # 7\n",
    "\n",
    "num = num // 10\n",
    "나머지 = num % 10\n",
    "total = total + 나머지  # 1\n",
    "\n",
    "num = num // 10\n",
    "나머지 = num % 10\n",
    "total = total + 나머지  # 1\n",
    "\n",
    "num = num // 10\n",
    "나머지 = num % 10\n",
    "total = total + 나머지  # 1\n",
    "\n",
    "num = num // 10\n",
    "나머지 = num % 10\n",
    "total = total + 나머지  # 1\n",
    "\n",
    "print(total)"
   ]
  },
  {
   "cell_type": "code",
   "execution_count": 8,
   "id": "f71249c4",
   "metadata": {},
   "outputs": [
    {
     "name": "stdout",
     "output_type": "stream",
     "text": [
      "900\n"
     ]
    }
   ],
   "source": [
    "num = 978\n",
    "result = 0\n",
    "result = num // 100 * 100\n",
    "print(result)"
   ]
  },
  {
   "cell_type": "code",
   "execution_count": 12,
   "id": "c9deb5e1",
   "metadata": {},
   "outputs": [
    {
     "data": {
      "text/plain": [
       "('2', '0', '5', '03')"
      ]
     },
     "execution_count": 12,
     "metadata": {},
     "output_type": "execute_result"
    }
   ],
   "source": [
    "date = '2012 03 25'\n",
    "date[0], date[1], date[-1], date[ 5 : 6+1 ]"
   ]
  },
  {
   "cell_type": "code",
   "execution_count": 29,
   "id": "79877fa2",
   "metadata": {},
   "outputs": [
    {
     "data": {
      "text/plain": [
       "[1, 2, 3, 4, 5, 6, 7, 8, 9, 10]"
      ]
     },
     "execution_count": 29,
     "metadata": {},
     "output_type": "execute_result"
    }
   ],
   "source": [
    "# 리스트 만들기 - 끝자리 숫자 제외\n",
    "list( range(1, 11) )"
   ]
  },
  {
   "cell_type": "code",
   "execution_count": 24,
   "id": "65c8e209",
   "metadata": {},
   "outputs": [
    {
     "data": {
      "text/plain": [
       "3"
      ]
     },
     "execution_count": 24,
     "metadata": {},
     "output_type": "execute_result"
    }
   ],
   "source": [
    "# 랜덤 숫자 뽑기 - 예외 끝자리 숫자 포함\n",
    "import random\n",
    "random.randint(1, 3)"
   ]
  },
  {
   "cell_type": "code",
   "execution_count": 25,
   "id": "3af4ec8d",
   "metadata": {},
   "outputs": [],
   "source": [
    "list = range(1, 4)  # 오류!!!!! list에 값을 대입했음"
   ]
  },
  {
   "cell_type": "code",
   "execution_count": 28,
   "id": "5c5b4914",
   "metadata": {},
   "outputs": [],
   "source": [
    "del list"
   ]
  },
  {
   "cell_type": "code",
   "execution_count": 31,
   "id": "737d597e",
   "metadata": {},
   "outputs": [
    {
     "name": "stdout",
     "output_type": "stream",
     "text": [
      "내 나이는 30 입니다.\n"
     ]
    }
   ],
   "source": [
    "# Formatting 1\n",
    "s = '내 나이는 %d 입니다.'\n",
    "s = '내 나이는 %s 입니다.'\n",
    "print(  s % 30  )"
   ]
  },
  {
   "cell_type": "code",
   "execution_count": 32,
   "id": "7ee2d782",
   "metadata": {},
   "outputs": [
    {
     "data": {
      "text/plain": [
       "'내 나이는 30 입니다.'"
      ]
     },
     "execution_count": 32,
     "metadata": {},
     "output_type": "execute_result"
    }
   ],
   "source": [
    "s = '내 나이는 ' + str(30) + ' 입니다.'\n",
    "s"
   ]
  },
  {
   "cell_type": "code",
   "execution_count": 35,
   "id": "7c662ccd",
   "metadata": {},
   "outputs": [
    {
     "data": {
      "text/plain": [
       "(1, 5)"
      ]
     },
     "execution_count": 35,
     "metadata": {},
     "output_type": "execute_result"
    }
   ],
   "source": [
    "str = 'Life is too short, You need Python'\n",
    "str.find('i'), str.find('i', 1+1)"
   ]
  },
  {
   "cell_type": "code",
   "execution_count": 37,
   "id": "43fbfd25",
   "metadata": {},
   "outputs": [
    {
     "data": {
      "text/plain": [
       "' too'"
      ]
     },
     "execution_count": 37,
     "metadata": {},
     "output_type": "execute_result"
    }
   ],
   "source": [
    "idx1 = str.find(' ')\n",
    "idx2 = str.find(' ', idx1 + 1)\n",
    "idx3 = str.find(' ', idx2 + 1)\n",
    "str[ idx2 : idx3 ]"
   ]
  },
  {
   "cell_type": "code",
   "execution_count": 39,
   "id": "6393031c",
   "metadata": {},
   "outputs": [
    {
     "data": {
      "text/plain": [
       "(['1', '2', '3'], '1@2@3')"
      ]
     },
     "execution_count": 39,
     "metadata": {},
     "output_type": "execute_result"
    }
   ],
   "source": [
    "li = ['1', '2', '3']\n",
    "li, '@'.join(li)"
   ]
  },
  {
   "cell_type": "code",
   "execution_count": 40,
   "id": "7f656dd1",
   "metadata": {},
   "outputs": [
    {
     "data": {
      "text/plain": [
       "12"
      ]
     },
     "execution_count": 40,
     "metadata": {},
     "output_type": "execute_result"
    }
   ],
   "source": [
    "# short 문자열 찾기\n",
    "s = 'Life is too short, You need Python'\n",
    "s.find('short')"
   ]
  },
  {
   "cell_type": "code",
   "execution_count": 44,
   "id": "3c750b3c",
   "metadata": {},
   "outputs": [
    {
     "data": {
      "text/plain": [
       "'Life is too short'"
      ]
     },
     "execution_count": 44,
     "metadata": {},
     "output_type": "execute_result"
    }
   ],
   "source": [
    "# 첫문자 ~ short 끝까지\n",
    "idx = s.find('short')\n",
    "s[ : idx + 5]"
   ]
  },
  {
   "cell_type": "code",
   "execution_count": 41,
   "id": "ddcd92c5",
   "metadata": {},
   "outputs": [
    {
     "data": {
      "text/plain": [
       "['Life', 'is', 'too', 'short,', 'You', 'need', 'Python']"
      ]
     },
     "execution_count": 41,
     "metadata": {},
     "output_type": "execute_result"
    }
   ],
   "source": [
    "# 공백 기준 리스트로 만들기\n",
    "s = 'Life is too short, You need Python'\n",
    "s.split(' ')"
   ]
  },
  {
   "cell_type": "code",
   "execution_count": null,
   "id": "197c2c75",
   "metadata": {},
   "outputs": [],
   "source": []
  },
  {
   "cell_type": "code",
   "execution_count": null,
   "id": "4b9a2611",
   "metadata": {},
   "outputs": [],
   "source": []
  }
 ],
 "metadata": {
  "kernelspec": {
   "display_name": "Python 3 (ipykernel)",
   "language": "python",
   "name": "python3"
  },
  "language_info": {
   "codemirror_mode": {
    "name": "ipython",
    "version": 3
   },
   "file_extension": ".py",
   "mimetype": "text/x-python",
   "name": "python",
   "nbconvert_exporter": "python",
   "pygments_lexer": "ipython3",
   "version": "3.9.7"
  }
 },
 "nbformat": 4,
 "nbformat_minor": 5
}
