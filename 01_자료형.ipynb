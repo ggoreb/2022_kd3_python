{
 "cells": [
  {
   "cell_type": "code",
   "execution_count": 1,
   "id": "be7433a4",
   "metadata": {},
   "outputs": [],
   "source": [
    "a = 23\n",
    "b = 5\n",
    "몫 = a // b\n",
    "나머지 = a % b"
   ]
  },
  {
   "cell_type": "code",
   "execution_count": 2,
   "id": "80c66b59",
   "metadata": {},
   "outputs": [
    {
     "data": {
      "text/plain": [
       "(4, 3)"
      ]
     },
     "execution_count": 2,
     "metadata": {},
     "output_type": "execute_result"
    }
   ],
   "source": [
    "몫, 나머지"
   ]
  },
  {
   "cell_type": "code",
   "execution_count": 4,
   "id": "b4220aba",
   "metadata": {},
   "outputs": [
    {
     "data": {
      "text/plain": [
       "(255, 27)"
      ]
     },
     "execution_count": 4,
     "metadata": {},
     "output_type": "execute_result"
    }
   ],
   "source": [
    "int(0XFF), int(0o33)"
   ]
  },
  {
   "cell_type": "code",
   "execution_count": 7,
   "id": "786324e4",
   "metadata": {
    "scrolled": true
   },
   "outputs": [
    {
     "name": "stdout",
     "output_type": "stream",
     "text": [
      "25\n"
     ]
    }
   ],
   "source": [
    "num = 215179\n",
    "total = 0\n",
    "\n",
    "나머지 = num % 10\n",
    "total = total + 나머지  # 9\n",
    "\n",
    "num = num // 10\n",
    "나머지 = num % 10\n",
    "total = total + 나머지  # 7\n",
    "\n",
    "num = num // 10\n",
    "나머지 = num % 10\n",
    "total = total + 나머지  # 1\n",
    "\n",
    "num = num // 10\n",
    "나머지 = num % 10\n",
    "total = total + 나머지  # 1\n",
    "\n",
    "num = num // 10\n",
    "나머지 = num % 10\n",
    "total = total + 나머지  # 1\n",
    "\n",
    "num = num // 10\n",
    "나머지 = num % 10\n",
    "total = total + 나머지  # 1\n",
    "\n",
    "print(total)"
   ]
  },
  {
   "cell_type": "code",
   "execution_count": 8,
   "id": "cfab4942",
   "metadata": {},
   "outputs": [
    {
     "name": "stdout",
     "output_type": "stream",
     "text": [
      "900\n"
     ]
    }
   ],
   "source": [
    "num = 978\n",
    "result = 0\n",
    "result = num // 100 * 100\n",
    "print(result)"
   ]
  },
  {
   "cell_type": "code",
   "execution_count": 12,
   "id": "724a051e",
   "metadata": {},
   "outputs": [
    {
     "data": {
      "text/plain": [
       "('2', '0', '5', '03')"
      ]
     },
     "execution_count": 12,
     "metadata": {},
     "output_type": "execute_result"
    }
   ],
   "source": [
    "date = '2012 03 25'\n",
    "date[0], date[1], date[-1], date[ 5 : 6+1 ]"
   ]
  }
 ],
 "metadata": {
  "kernelspec": {
   "display_name": "Python 3 (ipykernel)",
   "language": "python",
   "name": "python3"
  },
  "language_info": {
   "codemirror_mode": {
    "name": "ipython",
    "version": 3
   },
   "file_extension": ".py",
   "mimetype": "text/x-python",
   "name": "python",
   "nbconvert_exporter": "python",
   "pygments_lexer": "ipython3",
   "version": "3.9.7"
  }
 },
 "nbformat": 4,
 "nbformat_minor": 5
}
