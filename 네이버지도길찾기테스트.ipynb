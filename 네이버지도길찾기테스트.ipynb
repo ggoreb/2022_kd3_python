{
 "cells": [
  {
   "cell_type": "code",
   "execution_count": 2,
   "id": "c1b319f2",
   "metadata": {
    "collapsed": true
   },
   "outputs": [
    {
     "name": "stdout",
     "output_type": "stream",
     "text": [
      "Collecting selenium\n",
      "  Downloading selenium-4.1.5-py3-none-any.whl (979 kB)\n",
      "Collecting trio-websocket~=0.9\n",
      "  Downloading trio_websocket-0.9.2-py3-none-any.whl (16 kB)\n",
      "Collecting trio~=0.17\n",
      "  Downloading trio-0.20.0-py3-none-any.whl (359 kB)\n",
      "Requirement already satisfied: urllib3[secure,socks]~=1.26 in c:\\programdata\\anaconda3\\lib\\site-packages (from selenium) (1.26.7)\n",
      "Requirement already satisfied: attrs>=19.2.0 in c:\\programdata\\anaconda3\\lib\\site-packages (from trio~=0.17->selenium) (21.2.0)\n",
      "Collecting outcome\n",
      "  Downloading outcome-1.1.0-py2.py3-none-any.whl (9.7 kB)\n",
      "Requirement already satisfied: cffi>=1.14 in c:\\programdata\\anaconda3\\lib\\site-packages (from trio~=0.17->selenium) (1.14.6)\n",
      "Requirement already satisfied: async-generator>=1.9 in c:\\programdata\\anaconda3\\lib\\site-packages (from trio~=0.17->selenium) (1.10)\n",
      "Requirement already satisfied: sniffio in c:\\programdata\\anaconda3\\lib\\site-packages (from trio~=0.17->selenium) (1.2.0)\n",
      "Requirement already satisfied: sortedcontainers in c:\\programdata\\anaconda3\\lib\\site-packages (from trio~=0.17->selenium) (2.4.0)\n",
      "Requirement already satisfied: idna in c:\\programdata\\anaconda3\\lib\\site-packages (from trio~=0.17->selenium) (3.2)\n",
      "Requirement already satisfied: pycparser in c:\\programdata\\anaconda3\\lib\\site-packages (from cffi>=1.14->trio~=0.17->selenium) (2.20)\n",
      "Collecting wsproto>=0.14\n",
      "  Downloading wsproto-1.1.0-py3-none-any.whl (24 kB)\n",
      "Requirement already satisfied: PySocks!=1.5.7,<2.0,>=1.5.6 in c:\\programdata\\anaconda3\\lib\\site-packages (from urllib3[secure,socks]~=1.26->selenium) (1.7.1)\n",
      "Requirement already satisfied: pyOpenSSL>=0.14 in c:\\programdata\\anaconda3\\lib\\site-packages (from urllib3[secure,socks]~=1.26->selenium) (21.0.0)\n",
      "Requirement already satisfied: cryptography>=1.3.4 in c:\\programdata\\anaconda3\\lib\\site-packages (from urllib3[secure,socks]~=1.26->selenium) (3.4.8)\n",
      "Requirement already satisfied: certifi in c:\\programdata\\anaconda3\\lib\\site-packages (from urllib3[secure,socks]~=1.26->selenium) (2021.10.8)\n",
      "Requirement already satisfied: six>=1.5.2 in c:\\programdata\\anaconda3\\lib\\site-packages (from pyOpenSSL>=0.14->urllib3[secure,socks]~=1.26->selenium) (1.16.0)\n",
      "Collecting h11<1,>=0.9.0\n",
      "  Downloading h11-0.13.0-py3-none-any.whl (58 kB)\n",
      "Installing collected packages: outcome, h11, wsproto, trio, trio-websocket, selenium\n",
      "Successfully installed h11-0.13.0 outcome-1.1.0 selenium-4.1.5 trio-0.20.0 trio-websocket-0.9.2 wsproto-1.1.0\n"
     ]
    }
   ],
   "source": [
    "!pip install selenium"
   ]
  },
  {
   "cell_type": "code",
   "execution_count": 50,
   "id": "e1dc60f6",
   "metadata": {},
   "outputs": [],
   "source": [
    "from selenium import webdriver\n",
    "from selenium.webdriver.common.by import By\n",
    "import time\n",
    "\n",
    "driver = webdriver.Chrome()\n",
    "driver.get('https://map.naver.com/v5/directions')\n",
    "driver.implicitly_wait(10)\n",
    "\n",
    "\n",
    "# 자전거 선택\n",
    "driver.find_element(by=By.CSS_SELECTOR, value='ul[role=tablist] li:last-child > a').click()\n",
    "\n",
    "#### 출발지 입력\n",
    "driver.find_elements(by=By.CSS_SELECTOR, value='input.input_search')[0].send_keys('가산디지털단지역')\n",
    "\n",
    "\n",
    "\n",
    "time.sleep(0.3)\n",
    "#### 첫번째 장소 선택\n",
    "driver.find_element(by=By.CSS_SELECTOR, value='ul.list_place li.item_place').click()\n",
    "\n",
    "time.sleep(0.2)\n",
    "#### 도착지 입력\n",
    "driver.find_elements(by=By.CSS_SELECTOR, value='input.input_search')[1].send_keys('신림역')\n",
    "\n",
    "time.sleep(0.2)\n",
    "#### 첫번째 장소 선택\n",
    "driver.find_element(by=By.CSS_SELECTOR, value='ul.list_place li.item_place').click()\n",
    "\n",
    "time.sleep(0.2)\n",
    "## 경유지 선택\n",
    "driver.find_elements(by=By.CSS_SELECTOR, value='div.btn_box > button')[1].click()\n",
    "\n",
    "time.sleep(0.2)\n",
    "#### 경유지 입력\n",
    "driver.find_element(by=By.CSS_SELECTOR, value='#directionVia1').send_keys('보라매공원')\n",
    "\n",
    "time.sleep(0.2)\n",
    "driver.find_element(by=By.CSS_SELECTOR, value='ul.list_place li.item_place').click()\n",
    "\n",
    "time.sleep(0.2)\n",
    "## 길찾기 선택\n",
    "driver.find_elements(by=By.CSS_SELECTOR, value='div.btn_box > button')[2].click()"
   ]
  },
  {
   "cell_type": "code",
   "execution_count": 51,
   "id": "d1052bff",
   "metadata": {},
   "outputs": [],
   "source": [
    "driver.close()"
   ]
  }
 ],
 "metadata": {
  "kernelspec": {
   "display_name": "Python 3 (ipykernel)",
   "language": "python",
   "name": "python3"
  },
  "language_info": {
   "codemirror_mode": {
    "name": "ipython",
    "version": 3
   },
   "file_extension": ".py",
   "mimetype": "text/x-python",
   "name": "python",
   "nbconvert_exporter": "python",
   "pygments_lexer": "ipython3",
   "version": "3.9.7"
  }
 },
 "nbformat": 4,
 "nbformat_minor": 5
}
