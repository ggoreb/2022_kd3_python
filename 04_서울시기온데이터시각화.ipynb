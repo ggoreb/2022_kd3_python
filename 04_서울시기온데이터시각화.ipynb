{
 "cells": [
  {
   "cell_type": "markdown",
   "id": "e8a6ee2c-f585-4c19-a5fb-98479965e4c8",
   "metadata": {},
   "source": [
    "#### 1. 04_seoul_기온.csv 파일 불러오기"
   ]
  },
  {
   "cell_type": "code",
   "execution_count": null,
   "id": "e9ba7dea-7931-4823-b241-bc6f8c469ddb",
   "metadata": {},
   "outputs": [],
   "source": [
    "# open()\n",
    "# readlines()\n",
    "# close()"
   ]
  },
  {
   "cell_type": "markdown",
   "id": "68677d46-7275-44ae-9c56-f50c72674615",
   "metadata": {},
   "source": [
    "#### 2. 날짜와 최저기온 데이터 정리"
   ]
  },
  {
   "cell_type": "code",
   "execution_count": null,
   "id": "130c530c-0e30-4a24-bf84-f1cb045271cd",
   "metadata": {},
   "outputs": [],
   "source": [
    "# date_list와 min_list 생성\n",
    "# 반복문을 사용하여 각 데이터 저장"
   ]
  },
  {
   "cell_type": "markdown",
   "id": "2f8c5db2-16f4-4e90-a36f-944e3ac2df6f",
   "metadata": {},
   "source": [
    "#### 3. 시각화 준비 (환경설정)"
   ]
  },
  {
   "cell_type": "code",
   "execution_count": null,
   "id": "279df1c7-e231-49b9-bd38-27c63240d412",
   "metadata": {},
   "outputs": [],
   "source": [
    "# matplotlib.pyplot 모듈 가져오기"
   ]
  },
  {
   "cell_type": "markdown",
   "id": "b6e302e5-b37a-4da5-b096-aa31381774d3",
   "metadata": {},
   "source": [
    "4. 그래프로 데이터 표현하기"
   ]
  },
  {
   "cell_type": "code",
   "execution_count": null,
   "id": "2d8a0a2a-b24e-453c-b8ab-b87d12a3a3b7",
   "metadata": {},
   "outputs": [],
   "source": [
    "# Line 그래프 사용 (plot)"
   ]
  },
  {
   "cell_type": "code",
   "execution_count": null,
   "id": "1689e01f-0446-4355-a7df-ee3333694f12",
   "metadata": {},
   "outputs": [],
   "source": []
  },
  {
   "cell_type": "code",
   "execution_count": null,
   "id": "4447a79a-aa0f-492d-bbb8-33f88b04161f",
   "metadata": {},
   "outputs": [],
   "source": []
  },
  {
   "cell_type": "code",
   "execution_count": null,
   "id": "c72387e4-2308-4049-9f3e-84ed8450fb32",
   "metadata": {},
   "outputs": [],
   "source": []
  },
  {
   "cell_type": "code",
   "execution_count": null,
   "id": "65505b31-c288-46a0-bc8b-05a9d640d5bc",
   "metadata": {},
   "outputs": [],
   "source": [
    "df.head()"
   ]
  },
  {
   "cell_type": "code",
   "execution_count": null,
   "id": "ab77ae67-ad65-4473-abef-8ebb001926c5",
   "metadata": {},
   "outputs": [],
   "source": []
  }
 ],
 "metadata": {
  "kernelspec": {
   "display_name": "Python 3 (ipykernel)",
   "language": "python",
   "name": "python3"
  },
  "language_info": {
   "codemirror_mode": {
    "name": "ipython",
    "version": 3
   },
   "file_extension": ".py",
   "mimetype": "text/x-python",
   "name": "python",
   "nbconvert_exporter": "python",
   "pygments_lexer": "ipython3",
   "version": "3.9.7"
  }
 },
 "nbformat": 4,
 "nbformat_minor": 5
}
