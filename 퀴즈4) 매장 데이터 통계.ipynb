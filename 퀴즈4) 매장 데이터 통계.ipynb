{
 "cells": [
  {
   "cell_type": "markdown",
   "id": "c0f1c2ec",
   "metadata": {},
   "source": [
    "1. 데이터 가져오기"
   ]
  },
  {
   "cell_type": "code",
   "execution_count": 2,
   "id": "4352f01b",
   "metadata": {},
   "outputs": [],
   "source": [
    "import requests\n",
    "res = requests.get('http://ggoreb.com/quiz/shop.jsp')\n",
    "obj = res.json()"
   ]
  },
  {
   "cell_type": "markdown",
   "id": "6080ca48",
   "metadata": {},
   "source": [
    "2. 업종(kind), 주소(address)를 저장할 변수 준비"
   ]
  },
  {
   "cell_type": "code",
   "execution_count": 3,
   "id": "17682628",
   "metadata": {},
   "outputs": [],
   "source": [
    "kind_dict = {}\n",
    "address_dict = {}"
   ]
  },
  {
   "cell_type": "markdown",
   "id": "8ff37631",
   "metadata": {},
   "source": [
    "3. 서버로부터 받은 데이터에서 업종과 주소 확인 후 저장\n",
    "- 주소는 \"OO구\"까지만\n",
    "- "
   ]
  },
  {
   "cell_type": "code",
   "execution_count": null,
   "id": "ff678d86",
   "metadata": {},
   "outputs": [],
   "source": []
  },
  {
   "cell_type": "markdown",
   "id": "3e44aadc",
   "metadata": {},
   "source": [
    "4. 출력"
   ]
  },
  {
   "cell_type": "code",
   "execution_count": null,
   "id": "c44f21b9",
   "metadata": {},
   "outputs": [],
   "source": []
  }
 ],
 "metadata": {
  "kernelspec": {
   "display_name": "Python 3 (ipykernel)",
   "language": "python",
   "name": "python3"
  },
  "language_info": {
   "codemirror_mode": {
    "name": "ipython",
    "version": 3
   },
   "file_extension": ".py",
   "mimetype": "text/x-python",
   "name": "python",
   "nbconvert_exporter": "python",
   "pygments_lexer": "ipython3",
   "version": "3.9.7"
  }
 },
 "nbformat": 4,
 "nbformat_minor": 5
}
